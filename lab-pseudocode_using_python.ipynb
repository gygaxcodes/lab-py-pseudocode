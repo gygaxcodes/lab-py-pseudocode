{
 "cells": [
  {
   "cell_type": "markdown",
   "metadata": {},
   "source": [
    "# LAB | Pseudocode Using Python\n",
    "\n",
    "## Overview\n",
    "\n",
    "This exercise will help you practice writing pseudocode and translating it into Python code. Pseudocode is a way to describe algorithms in a human-readable format, which can then be implemented in programming languages.\n",
    "\n"
   ]
  },
  {
   "cell_type": "markdown",
   "metadata": {},
   "source": [
    "### Exercise 1: Multiply Two Numbers\n",
    "\n",
    "Write a pseudocode to read two numbers and multiply them together. Then, write the equivalent Python code."
   ]
  },
  {
   "cell_type": "markdown",
   "metadata": {},
   "source": [
    "<!-- Add your pseudocode here -->"
   ]
  },
  {
   "cell_type": "code",
   "execution_count": null,
   "metadata": {},
   "outputs": [],
   "source": [
    "numbers = []\n",
    "\n",
    "READ number1\n",
    "READ number2\n",
    "\n",
    "result = number1 * number2\n"
   ]
  },
  {
   "cell_type": "code",
   "execution_count": 3,
   "metadata": {},
   "outputs": [
    {
     "data": {
      "text/plain": [
       "4.0"
      ]
     },
     "execution_count": 3,
     "metadata": {},
     "output_type": "execute_result"
    }
   ],
   "source": [
    "number1 = float(input(\"Enter number1: \"))\n",
    "number2 = float(input(\"Enter number2: \"))\n",
    "\n",
    "result = number1 * number2\n",
    "\n",
    "result"
   ]
  },
  {
   "cell_type": "markdown",
   "metadata": {},
   "source": [
    "### Exercise 2: Check Even or Odd\n",
    "\n",
    "Write pseudocode that checks if a number is even or odd and prints the result. Then, write the equivalent Python code."
   ]
  },
  {
   "cell_type": "markdown",
   "metadata": {},
   "source": [
    "<!-- Add your pseudocode here -->"
   ]
  },
  {
   "cell_type": "code",
   "execution_count": null,
   "metadata": {},
   "outputs": [],
   "source": [
    "READ number\n",
    "\n",
    "If number % 2 equals 0\n",
    "    PRINT \"even\"\n",
    "else\n",
    "    PRINT \"odd\""
   ]
  },
  {
   "cell_type": "code",
   "execution_count": 6,
   "metadata": {},
   "outputs": [
    {
     "name": "stdout",
     "output_type": "stream",
     "text": [
      "even\n"
     ]
    }
   ],
   "source": [
    "number = float(input(\"Enter a number: \"))\n",
    "\n",
    "if number % 2 == 0:\n",
    "    print (\"even\")\n",
    "else:\n",
    "    print (\"odd\")\n"
   ]
  },
  {
   "cell_type": "markdown",
   "metadata": {},
   "source": [
    "### Exercise 3: Sum of First N Natural Numbers\n",
    "\n",
    "Write pseudocode to calculate the sum of the first N natural numbers. Then, write the equivalent Python code."
   ]
  },
  {
   "cell_type": "markdown",
   "metadata": {},
   "source": [
    "<!-- Add your pseudocode here -->"
   ]
  },
  {
   "cell_type": "code",
   "execution_count": null,
   "metadata": {},
   "outputs": [],
   "source": [
    "READ number \n",
    "\n",
    "Sum = 0 \n",
    "\n",
    "For EACH natural number from 1 to N\n",
    "    sum = sum + natural number\n",
    "\n",
    "sum"
   ]
  },
  {
   "cell_type": "code",
   "execution_count": 12,
   "metadata": {},
   "outputs": [
    {
     "name": "stdout",
     "output_type": "stream",
     "text": [
      "6\n"
     ]
    }
   ],
   "source": [
    "number = int(input(\"Enter a number: \"))\n",
    "\n",
    "total = 0\n",
    "for i in range(1, number + 1):\n",
    "    total += i\n",
    "\n",
    "print(total)"
   ]
  },
  {
   "cell_type": "markdown",
   "metadata": {},
   "source": [
    "### Exercise 4: Find Maximum of Three Numbers\n",
    "\n",
    "Write pseudocode that finds the maximum of three numbers entered by the user. Then, write the equivalent Python code."
   ]
  },
  {
   "cell_type": "markdown",
   "metadata": {},
   "source": [
    "<!-- Add your pseudocode here -->"
   ]
  },
  {
   "cell_type": "code",
   "execution_count": null,
   "metadata": {},
   "outputs": [],
   "source": [
    "READ number1\n",
    "READ number2\n",
    "READ number3\n",
    "\n",
    "IF num1 >= num2 AND num1 >= num3 THEN\n",
    "    max = num1\n",
    "ELSE IF num2 >= num1 AND num2 >= num3 THEN\n",
    "    max = num2\n",
    "ELSE\n",
    "    max = num3\n",
    "\n"
   ]
  },
  {
   "cell_type": "code",
   "execution_count": 15,
   "metadata": {},
   "outputs": [
    {
     "data": {
      "text/plain": [
       "6.0"
      ]
     },
     "execution_count": 15,
     "metadata": {},
     "output_type": "execute_result"
    }
   ],
   "source": [
    "number1 = float(input(\"Enter first number: \"))\n",
    "number2 = float(input(\"Enter second number: \"))\n",
    "number3 = float(input(\"Enter third number: \"))\n",
    "\n",
    "# Find the maximum\n",
    "if number1 >= number2 and number1 >= number3:\n",
    "    maximum = number1\n",
    "elif num2 >= number1 and number2 >= number3:\n",
    "    maximum = number2\n",
    "else:\n",
    "    maximum = number3\n",
    "\n",
    "maximum"
   ]
  },
  {
   "cell_type": "markdown",
   "metadata": {},
   "source": [
    "### Exercise 5: Count Vowels in a String\n",
    "\n",
    "Write pseudocode to count the number of vowels in a given string and print the count. Then, write the equivalent Python code."
   ]
  },
  {
   "cell_type": "markdown",
   "metadata": {},
   "source": [
    "<!-- Add your pseudocode here -->"
   ]
  },
  {
   "cell_type": "code",
   "execution_count": null,
   "metadata": {},
   "outputs": [
    {
     "ename": "SyntaxError",
     "evalue": "invalid syntax (390561665.py, line 3)",
     "output_type": "error",
     "traceback": [
      "\u001b[0;36m  Cell \u001b[0;32mIn[17], line 3\u001b[0;36m\u001b[0m\n\u001b[0;31m    Write pseudocode to count the number of vowels in a given string and print the count. Then, write the equivalent Python code.\u001b[0m\n\u001b[0m          ^\u001b[0m\n\u001b[0;31mSyntaxError\u001b[0m\u001b[0;31m:\u001b[0m invalid syntax\n"
     ]
    }
   ],
   "source": [
    "READ text\n",
    "\n",
    "count = 0\n",
    "\n",
    "FOR each character in text\n",
    "    IF character is \"a OR \"A\" OR \"e\" OR \"E\" OR \"i\" OR \"I\" OR \"o\" OR \"O\" OR \"u\" OR \"U\":\n",
    "        count += 1\n",
    "        INCREMENT count by 1\n",
    "\n"
   ]
  },
  {
   "cell_type": "code",
   "execution_count": 19,
   "metadata": {},
   "outputs": [
    {
     "data": {
      "text/plain": [
       "2"
      ]
     },
     "execution_count": 19,
     "metadata": {},
     "output_type": "execute_result"
    }
   ],
   "source": [
    "\n",
    "text = input(\"Enter text: \")\n",
    "\n",
    "count = 0\n",
    "\n",
    "for char in text:\n",
    "    if char in \"AaEeIiOoUu\":\n",
    "        count += 1\n",
    "\n",
    "count"
   ]
  },
  {
   "cell_type": "markdown",
   "metadata": {},
   "source": [
    "## Bonus Exercises\n",
    "\n",
    "### Bonus Exercise 6: Reverse a String\n",
    "\n",
    "Write pseudocode to reverse a given string and print it out."
   ]
  },
  {
   "cell_type": "markdown",
   "metadata": {},
   "source": [
    "<!-- Add your pseudocode here -->"
   ]
  },
  {
   "cell_type": "code",
   "execution_count": null,
   "metadata": {},
   "outputs": [],
   "source": [
    "# Add your code solution here"
   ]
  },
  {
   "cell_type": "markdown",
   "metadata": {},
   "source": [
    "### Bonus Exercise 7: Print Multiplication Table of a Number\n",
    "\n",
    "Write pseudocode to print the multiplication table of a given number up to 10."
   ]
  },
  {
   "cell_type": "markdown",
   "metadata": {},
   "source": [
    "<!-- Add your pseudocode here -->"
   ]
  },
  {
   "cell_type": "code",
   "execution_count": null,
   "metadata": {},
   "outputs": [],
   "source": [
    "# Add your code solution here"
   ]
  },
  {
   "cell_type": "markdown",
   "metadata": {},
   "source": [
    "### Bonus Exercise 8: Count Words in a String\n",
    "\n",
    "Write pseudocode that counts the words in a given string and prints the result."
   ]
  },
  {
   "cell_type": "markdown",
   "metadata": {},
   "source": [
    "<!-- Add your pseudocode here -->"
   ]
  },
  {
   "cell_type": "code",
   "execution_count": 46,
   "metadata": {},
   "outputs": [],
   "source": [
    "# Add your code solution here"
   ]
  },
  {
   "cell_type": "markdown",
   "metadata": {},
   "source": [
    "### Bonus Exercise 9: Find Factorial of a Number\n",
    "\n",
    "Write pseudocode that calculates the factorial of a given positive integer."
   ]
  },
  {
   "cell_type": "markdown",
   "metadata": {},
   "source": [
    "<!-- Add your pseudocode here -->"
   ]
  },
  {
   "cell_type": "code",
   "execution_count": null,
   "metadata": {},
   "outputs": [],
   "source": [
    "# Add your code solution here"
   ]
  },
  {
   "cell_type": "markdown",
   "metadata": {},
   "source": [
    "### Bonus Exercise 10: FizzBuzz Problem\n",
    "\n",
    "Write pseudocode for the FizzBuzz problem where you print numbers from 1 to N but replace multiples of three with \"Fizz\" and multiples of five with \"Buzz\"."
   ]
  },
  {
   "cell_type": "markdown",
   "metadata": {},
   "source": [
    "<!-- Add your pseudocode here -->"
   ]
  },
  {
   "cell_type": "code",
   "execution_count": 48,
   "metadata": {},
   "outputs": [],
   "source": [
    "# Add your code solution here"
   ]
  }
 ],
 "metadata": {
  "kernelspec": {
   "display_name": "base",
   "language": "python",
   "name": "python3"
  },
  "language_info": {
   "codemirror_mode": {
    "name": "ipython",
    "version": 3
   },
   "file_extension": ".py",
   "mimetype": "text/x-python",
   "name": "python",
   "nbconvert_exporter": "python",
   "pygments_lexer": "ipython3",
   "version": "3.13.5"
  }
 },
 "nbformat": 4,
 "nbformat_minor": 2
}
